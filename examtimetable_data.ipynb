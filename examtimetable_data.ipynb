{
 "cells": [
  {
   "cell_type": "markdown",
   "metadata": {
    "deletable": true,
    "editable": true
   },
   "source": [
    "# extable_data.py\n",
    "\n",
    "- University of Iceland - Universtity Exam Timetabling\n",
    "\n",
    "## listar:\n",
    "\n",
    "  0. Num: of days for exams \n",
    "  0. Course: (sjö stafa heiti á námskeiði)\n",
    "  0. Curricula: (námsbrautir)\n",
    "  0. StudentType: (tegund nemenda, venjulegur, sérnemi, ...)\n",
    "  0. Session: range(2*Num) (prófhólf)\n",
    "  0. ExamType: (tegund prófs, munnlegt, skriflegt, tölvu, ...)\n",
    "  0. Room: (heiti á stofu)\n",
    "  0. RoomType: (tegund herbergja: venjuleg stofa, tölvustofa, sérstofa, sértölvustofa)\n",
    "  0. Building: (Byggingar)\n",
    "  \n",
    "  "
   ]
  },
  {
   "cell_type": "code",
   "execution_count": 1,
   "metadata": {
    "collapsed": true,
    "deletable": true,
    "editable": true
   },
   "outputs": [],
   "source": [
    "Num = 11\n",
    "Session = range(2*Num)\n",
    "\n",
    "\n",
    "Course = [ \"IÐN401G\",  \"SÁL101G\",...]\n",
    "Curricula = [\"IÐNXXXX\", ...] \n",
    "\n",
    "Building = [\"Adalbygging\",\"Askja\",\"Arnagardur\",\"Eirberg\",\"Gimli\",\"Haskolatorg\",\"Logberg\",\"Oddi\",\"VRII\",\"Hamar\",\n",
    "            \"Klettur\",\"Enni\",\"NyjiGardur\",\"Laugavatn\"]\n",
    "\n",
    "Room = [\"A050\",\"A051\",\"A052\",\"A201\",\"A218\",\"A301\",\"A304\",\"A311\",\"E101C\",\"E103C\",\"E201C\",\"E203C\",\"E301\",\"E303\",\n",
    "        \"H101\",\"H201\",\"H202\",\"H203\",\"H204\",\"H205\",\"H206\",\"H207\",\"Ht102\",\"Ht103\",\"Ht104\",\"Ht105\",\n",
    "        \"K-salur\",\"K204\",\"K205\",\"K206\",\"K207\",\"K208\",\"L102\",\"L103\",\"N130\",\"N131\",\"O201\",\"O202\",\n",
    "        \"Stofa_2\",\"V138\",\"V147\",\"V152\",\"V156\",\"V258\",\"V261\"]\n",
    "\n",
    "\n"
   ]
  },
  {
   "cell_type": "markdown",
   "metadata": {
    "deletable": true,
    "editable": true,
    "nbpresent": {
     "id": "9871a869-6285-43e5-b93a-55d4906af818"
    },
    "slideshow": {
     "slide_type": "slide"
    }
   },
   "source": [
    "## Gögn fyrir lista (tölur eða aðrir listar)\n",
    "  0. Fjöldi nema eftir tegund í námskeiði\n",
    "  0. \n",
    "  0. Worker pay: indexed by workers"
   ]
  },
  {
   "cell_type": "code",
   "execution_count": 2,
   "metadata": {
    "collapsed": true,
    "deletable": true,
    "editable": true
   },
   "outputs": [],
   "source": [
    "CurriculaCourse = {\n",
    "    \"IÐNXXXX\" : [\"IÐN401G\", \"IÐN201G\"], ...}\n",
    "\n",
    "\n",
    "\n",
    "\n",
    "RoomId = {\n",
    "    \"A050\" : 1001,\n",
    "    \"A051\" : 1002,\n",
    "    \"A052\" : 1003,\n",
    "    \"A069\" : 1004 }\n",
    "\n",
    "\n"
   ]
  },
  {
   "cell_type": "code",
   "execution_count": null,
   "metadata": {
    "collapsed": true
   },
   "outputs": [],
   "source": []
  }
 ],
 "metadata": {
  "anaconda-cloud": {
   "attach-environment": false,
   "environment": null,
   "summary": "Sample network flow",
   "url": "https://anaconda.org/gglockner/netflow"
  },
  "kernelspec": {
   "display_name": "Python [conda root]",
   "language": "python",
   "name": "conda-root-py"
  },
  "language_info": {
   "codemirror_mode": {
    "name": "ipython",
    "version": 3
   },
   "file_extension": ".py",
   "mimetype": "text/x-python",
   "name": "python",
   "nbconvert_exporter": "python",
   "pygments_lexer": "ipython3",
   "version": "3.5.2"
  },
  "nbpresent": {
   "slides": {
    "622c7359-7d19-4291-a322-1fbcaa288ef0": {
     "id": "622c7359-7d19-4291-a322-1fbcaa288ef0",
     "prev": "e607b445-87c8-42bd-8010-43f04345bcb5",
     "regions": {}
    },
    "814d0cc7-122d-49f6-967a-a4a8f57d383c": {
     "id": "814d0cc7-122d-49f6-967a-a4a8f57d383c",
     "prev": "622c7359-7d19-4291-a322-1fbcaa288ef0",
     "regions": {
      "f14faa71-c001-44c1-be63-0bb67b525a57": {
       "attrs": {
        "height": 1,
        "width": 1,
        "x": 0,
        "y": 0
       },
       "id": "f14faa71-c001-44c1-be63-0bb67b525a57"
      }
     }
    },
    "e607b445-87c8-42bd-8010-43f04345bcb5": {
     "id": "e607b445-87c8-42bd-8010-43f04345bcb5",
     "prev": null,
     "regions": {}
    }
   },
   "themes": {}
  }
 },
 "nbformat": 4,
 "nbformat_minor": 0
}
